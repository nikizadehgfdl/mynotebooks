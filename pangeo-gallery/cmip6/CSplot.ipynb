{
 "cells": [
  {
   "cell_type": "code",
   "execution_count": null,
   "id": "streaming-reggae",
   "metadata": {},
   "outputs": [],
   "source": [
    "from __future__ import print_function\n",
    "import numpy as np\n",
    "import netCDF4 as nc\n",
    "import matplotlib as mpl\n",
    "import matplotlib.pyplot as plt\n",
    "import cartopy.crs as ccrs\n",
    "import cartopy     as cart\n",
    "print('using pakages:')\n",
    "for package in np, nc, mpl, cart :\n",
    "    print('{:>20s} : {}'.format(package.__name__, package.__version__))\n",
    "src = [nc.Dataset('/work/slm/CMIP6/GFDL-ESM4/ESM4_historical_D1/history/2001/20010101.grid_spec.tile%d.nc'%(tile),'r')\n",
    "       for tile in range(1,7)]\n",
    "data = [ (d.variables['grid_lon'], d.variables['grid_lat'], d.variables['zsurf'], 'tile%d'%(i+1)) for i,d in enumerate(src) ]\n",
    "fig = plt.figure(facecolor='w',figsize=(10,5))\n",
    "# do not work:\n",
    "#ax = fig.add_subplot(1, 1, 1, projection=ccrs.Sinusoidal())\n",
    "#ax = fig.add_subplot(1, 1, 1, projection=ccrs.Stereographic())\n",
    "#ax = fig.add_subplot(1, 1, 1, projection=ccrs.NearsidePerspective())\n",
    "#ax = fig.add_subplot(1, 1, 1, projection=ccrs.SouthPolarStereo())\n",
    "#work:\n",
    "#ax = fig.add_subplot(1, 1, 1, projection=ccrs.PlateCarree())\n",
    "ax = fig.add_subplot(1, 1, 1, projection=ccrs.Robinson())\n",
    "#ax = fig.add_subplot(1, 1, 1, projection=ccrs.InterruptedGoodeHomolosine())\n",
    "#ax = fig.add_subplot(1, 1, 1, projection=ccrs.RotatedPole(pole_longitude=180,pole_latitude=45))\n",
    "ax.coastlines()\n",
    "ax.gridlines()\n",
    "for lons,lats,values,tile in data[0:3]+data[4:]:\n",
    "    ax.pcolormesh(lons[:], lats[:], values[:], vmin=-1000, vmax=6000, transform=ccrs.PlateCarree(), cmap='terrain')\n",
    "for lons,lats,values,tile in data[2:4]:\n",
    "    ax.pcolormesh(np.transpose(lons[:]), np.transpose(lats[:]), np.transpose(values[:]), vmin=-1000, vmax=6000, transform=ccrs.PlateCarree(), cmap='terrain')\n",
    "plt.show()"
   ]
  }
 ],
 "metadata": {
  "kernelspec": {
   "display_name": "Python 3",
   "language": "python",
   "name": "python3"
  },
  "language_info": {
   "codemirror_mode": {
    "name": "ipython",
    "version": 3
   },
   "file_extension": ".py",
   "mimetype": "text/x-python",
   "name": "python",
   "nbconvert_exporter": "python",
   "pygments_lexer": "ipython3",
   "version": "3.8.8"
  }
 },
 "nbformat": 4,
 "nbformat_minor": 5
}
